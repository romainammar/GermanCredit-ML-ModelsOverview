{
 "cells": [
  {
   "cell_type": "markdown",
   "metadata": {},
   "source": [
    "<img src=\"logo.gif\">\n",
    "<br>\n",
    "\n",
    "<center><font size=\"5\" color=\"#022C5E\"><b>Overview of ML Algorithms : German Credit Loan Application (UCI)</b></font></center>\n",
    "\n"
   ]
  },
  {
   "cell_type": "markdown",
   "metadata": {},
   "source": [
    "## Context\n",
    "\n",
    "A loan application form seeks a lot of information about the applicant. Such data can be used to build a classifiers to make predictions about which customers are most likely to turn up as fraudulent. The customers who have been predicted to have a high probability to default are the declined to loan.\n",
    "The goal of this lab is to use historical data to build a model that could help the bank officer to decide whether or not to approve a loan request based on the information submitted by the applicant such as credit history, loan purpose, account status, employment, the loan amount, purpose of the loan, gender and marital status of the requester, etc.\n",
    "From the data science point of view the aim is to evaluate various modeling techniques, calibrate their parameters as well as understand the tradeoff between the different approaches such as data and model assumptions implied by each case. In order to be able to compare the different models it is necessary to establish a figure of merit that is relevant to the business challenge.\n",
    "\n",
    "This notebook is organized as follows\n",
    "1.\tData gathering \n",
    "2.\tExploratory data analysis\n",
    "3.\tPreparing the data\n",
    "4.\tModel running\n",
    "5.\tModel evaluation\n",
    "\n"
   ]
  },
  {
   "cell_type": "markdown",
   "metadata": {},
   "source": [
    "## Business understanding\n",
    "Let's set up the given misqualification loss"
   ]
  },
  {
   "cell_type": "code",
   "execution_count": 34,
   "metadata": {
    "collapsed": true
   },
   "outputs": [],
   "source": [
    "# false positive\n",
    "L_BG = 1 \n",
    "\n",
    "# false negative\n",
    "L_GB = 5"
   ]
  },
  {
   "cell_type": "markdown",
   "metadata": {},
   "source": [
    "The German credit data set is widely used for benchmarking machine learning algorithms. This data has been made available by Prof. Hofmann and it is available on the web at http://archive.ics.uci.edu/-ml/datasets/Statlog . It is dataset of 1000 real customers who has had borrowed loan from areal German bank in which 70% repaid the loan and therefore are rated good credit while the remaining 30% defaulted the bank are related bad credit. Along with these outcomes, it appears customer credit history, employment, account status, the purpose of the loan, fender and marital status. Each loan for is summarized into 20 input fields."
   ]
  },
  {
   "cell_type": "markdown",
   "metadata": {},
   "source": [
    "## Data gathering"
   ]
  },
  {
   "cell_type": "code",
   "execution_count": 104,
   "metadata": {
    "collapsed": false
   },
   "outputs": [],
   "source": [
    "import pandas as pd\n",
    "import matplotlib.pyplot as plt\n",
    "import seaborn as sns\n",
    "\n",
    "%matplotlib inline\n",
    "\n",
    "german_credit = pd.read_csv(\"German.Credit.csv\") "
   ]
  },
  {
   "cell_type": "markdown",
   "metadata": {},
   "source": [
    "We verify that the data loaded successfully "
   ]
  },
  {
   "cell_type": "code",
   "execution_count": 2,
   "metadata": {
    "collapsed": false
   },
   "outputs": [
    {
     "data": {
      "text/html": [
       "<div>\n",
       "<table border=\"1\" class=\"dataframe\">\n",
       "  <thead>\n",
       "    <tr style=\"text-align: right;\">\n",
       "      <th></th>\n",
       "      <th>account_balance</th>\n",
       "      <th>duration</th>\n",
       "      <th>credit_history</th>\n",
       "      <th>purpose</th>\n",
       "      <th>credit_amount</th>\n",
       "      <th>savings_status</th>\n",
       "      <th>employment</th>\n",
       "      <th>installment_commitment</th>\n",
       "      <th>personal_status</th>\n",
       "      <th>other_parties</th>\n",
       "      <th>...</th>\n",
       "      <th>property_magnitude</th>\n",
       "      <th>age</th>\n",
       "      <th>other_payment_plans</th>\n",
       "      <th>housing</th>\n",
       "      <th>existing_credits</th>\n",
       "      <th>job</th>\n",
       "      <th>num_dependents</th>\n",
       "      <th>own_telephone</th>\n",
       "      <th>foreign</th>\n",
       "      <th>target</th>\n",
       "    </tr>\n",
       "  </thead>\n",
       "  <tbody>\n",
       "    <tr>\n",
       "      <th>0</th>\n",
       "      <td>'&lt;0'</td>\n",
       "      <td>6</td>\n",
       "      <td>'critical/other existing credit'</td>\n",
       "      <td>radio/tv</td>\n",
       "      <td>1169</td>\n",
       "      <td>'no known savings'</td>\n",
       "      <td>'&gt;=7'</td>\n",
       "      <td>4</td>\n",
       "      <td>'male single'</td>\n",
       "      <td>none</td>\n",
       "      <td>...</td>\n",
       "      <td>'real estate'</td>\n",
       "      <td>67</td>\n",
       "      <td>none</td>\n",
       "      <td>own</td>\n",
       "      <td>2</td>\n",
       "      <td>skilled</td>\n",
       "      <td>1</td>\n",
       "      <td>yes</td>\n",
       "      <td>yes</td>\n",
       "      <td>good</td>\n",
       "    </tr>\n",
       "    <tr>\n",
       "      <th>1</th>\n",
       "      <td>'0&lt;=X&lt;200'</td>\n",
       "      <td>48</td>\n",
       "      <td>'existing paid'</td>\n",
       "      <td>radio/tv</td>\n",
       "      <td>5951</td>\n",
       "      <td>'&lt;100'</td>\n",
       "      <td>'1&lt;=X&lt;4'</td>\n",
       "      <td>2</td>\n",
       "      <td>'female div/dep/mar'</td>\n",
       "      <td>none</td>\n",
       "      <td>...</td>\n",
       "      <td>'real estate'</td>\n",
       "      <td>22</td>\n",
       "      <td>none</td>\n",
       "      <td>own</td>\n",
       "      <td>1</td>\n",
       "      <td>skilled</td>\n",
       "      <td>1</td>\n",
       "      <td>none</td>\n",
       "      <td>yes</td>\n",
       "      <td>bad</td>\n",
       "    </tr>\n",
       "  </tbody>\n",
       "</table>\n",
       "<p>2 rows × 21 columns</p>\n",
       "</div>"
      ],
      "text/plain": [
       "  account_balance  duration                    credit_history   purpose  \\\n",
       "0            '<0'         6  'critical/other existing credit'  radio/tv   \n",
       "1      '0<=X<200'        48                   'existing paid'  radio/tv   \n",
       "\n",
       "   credit_amount      savings_status employment  installment_commitment  \\\n",
       "0           1169  'no known savings'      '>=7'                       4   \n",
       "1           5951              '<100'   '1<=X<4'                       2   \n",
       "\n",
       "        personal_status other_parties  ...    property_magnitude age  \\\n",
       "0         'male single'          none  ...         'real estate'  67   \n",
       "1  'female div/dep/mar'          none  ...         'real estate'  22   \n",
       "\n",
       "   other_payment_plans housing existing_credits      job num_dependents  \\\n",
       "0                 none     own                2  skilled              1   \n",
       "1                 none     own                1  skilled              1   \n",
       "\n",
       "   own_telephone foreign target  \n",
       "0            yes     yes   good  \n",
       "1           none     yes    bad  \n",
       "\n",
       "[2 rows x 21 columns]"
      ]
     },
     "execution_count": 2,
     "metadata": {},
     "output_type": "execute_result"
    }
   ],
   "source": [
    "german_credit.head(2)"
   ]
  },
  {
   "cell_type": "markdown",
   "metadata": {},
   "source": [
    "## Exploratory data analysis"
   ]
  },
  {
   "cell_type": "markdown",
   "metadata": {},
   "source": [
    "Before getting into any sophisticated analysis, the first step is to do an exploratory data analysis in order to analyze the data sets and to summarize its main characteristics. Since both categorical and continuous variables are included in the data set, appropriate tables and summary statistics should be made."
   ]
  },
  {
   "cell_type": "markdown",
   "metadata": {},
   "source": [
    "To get an initial overview of the statistical properties of the data, we will use the function describe.\n",
    "See what you can learn from the data."
   ]
  },
  {
   "cell_type": "markdown",
   "metadata": {},
   "source": [
    "**Note:** Let's note that describe in Python shows only subset of the features - only numerical."
   ]
  },
  {
   "cell_type": "code",
   "execution_count": 3,
   "metadata": {
    "collapsed": false,
    "scrolled": false
   },
   "outputs": [
    {
     "data": {
      "text/html": [
       "<div>\n",
       "<table border=\"1\" class=\"dataframe\">\n",
       "  <thead>\n",
       "    <tr style=\"text-align: right;\">\n",
       "      <th></th>\n",
       "      <th>count</th>\n",
       "      <th>mean</th>\n",
       "      <th>std</th>\n",
       "      <th>min</th>\n",
       "      <th>25%</th>\n",
       "      <th>50%</th>\n",
       "      <th>75%</th>\n",
       "      <th>max</th>\n",
       "    </tr>\n",
       "  </thead>\n",
       "  <tbody>\n",
       "    <tr>\n",
       "      <th>duration</th>\n",
       "      <td>1000.0</td>\n",
       "      <td>20.903</td>\n",
       "      <td>12.058814</td>\n",
       "      <td>4.0</td>\n",
       "      <td>12.0</td>\n",
       "      <td>18.0</td>\n",
       "      <td>24.00</td>\n",
       "      <td>72.0</td>\n",
       "    </tr>\n",
       "    <tr>\n",
       "      <th>credit_amount</th>\n",
       "      <td>1000.0</td>\n",
       "      <td>3271.258</td>\n",
       "      <td>2822.736876</td>\n",
       "      <td>250.0</td>\n",
       "      <td>1365.5</td>\n",
       "      <td>2319.5</td>\n",
       "      <td>3972.25</td>\n",
       "      <td>18424.0</td>\n",
       "    </tr>\n",
       "    <tr>\n",
       "      <th>installment_commitment</th>\n",
       "      <td>1000.0</td>\n",
       "      <td>2.973</td>\n",
       "      <td>1.118715</td>\n",
       "      <td>1.0</td>\n",
       "      <td>2.0</td>\n",
       "      <td>3.0</td>\n",
       "      <td>4.00</td>\n",
       "      <td>4.0</td>\n",
       "    </tr>\n",
       "    <tr>\n",
       "      <th>residence_since</th>\n",
       "      <td>1000.0</td>\n",
       "      <td>2.845</td>\n",
       "      <td>1.103718</td>\n",
       "      <td>1.0</td>\n",
       "      <td>2.0</td>\n",
       "      <td>3.0</td>\n",
       "      <td>4.00</td>\n",
       "      <td>4.0</td>\n",
       "    </tr>\n",
       "    <tr>\n",
       "      <th>age</th>\n",
       "      <td>1000.0</td>\n",
       "      <td>35.546</td>\n",
       "      <td>11.375469</td>\n",
       "      <td>19.0</td>\n",
       "      <td>27.0</td>\n",
       "      <td>33.0</td>\n",
       "      <td>42.00</td>\n",
       "      <td>75.0</td>\n",
       "    </tr>\n",
       "    <tr>\n",
       "      <th>existing_credits</th>\n",
       "      <td>1000.0</td>\n",
       "      <td>1.407</td>\n",
       "      <td>0.577654</td>\n",
       "      <td>1.0</td>\n",
       "      <td>1.0</td>\n",
       "      <td>1.0</td>\n",
       "      <td>2.00</td>\n",
       "      <td>4.0</td>\n",
       "    </tr>\n",
       "    <tr>\n",
       "      <th>num_dependents</th>\n",
       "      <td>1000.0</td>\n",
       "      <td>1.155</td>\n",
       "      <td>0.362086</td>\n",
       "      <td>1.0</td>\n",
       "      <td>1.0</td>\n",
       "      <td>1.0</td>\n",
       "      <td>1.00</td>\n",
       "      <td>2.0</td>\n",
       "    </tr>\n",
       "  </tbody>\n",
       "</table>\n",
       "</div>"
      ],
      "text/plain": [
       "                         count      mean          std    min     25%     50%  \\\n",
       "duration                1000.0    20.903    12.058814    4.0    12.0    18.0   \n",
       "credit_amount           1000.0  3271.258  2822.736876  250.0  1365.5  2319.5   \n",
       "installment_commitment  1000.0     2.973     1.118715    1.0     2.0     3.0   \n",
       "residence_since         1000.0     2.845     1.103718    1.0     2.0     3.0   \n",
       "age                     1000.0    35.546    11.375469   19.0    27.0    33.0   \n",
       "existing_credits        1000.0     1.407     0.577654    1.0     1.0     1.0   \n",
       "num_dependents          1000.0     1.155     0.362086    1.0     1.0     1.0   \n",
       "\n",
       "                            75%      max  \n",
       "duration                  24.00     72.0  \n",
       "credit_amount           3972.25  18424.0  \n",
       "installment_commitment     4.00      4.0  \n",
       "residence_since            4.00      4.0  \n",
       "age                       42.00     75.0  \n",
       "existing_credits           2.00      4.0  \n",
       "num_dependents             1.00      2.0  "
      ]
     },
     "execution_count": 3,
     "metadata": {},
     "output_type": "execute_result"
    }
   ],
   "source": [
    "# to explore the numerical\n",
    "german_credit.describe().transpose()"
   ]
  },
  {
   "cell_type": "code",
   "execution_count": 4,
   "metadata": {
    "collapsed": false
   },
   "outputs": [
    {
     "data": {
      "text/html": [
       "<div>\n",
       "<table border=\"1\" class=\"dataframe\">\n",
       "  <thead>\n",
       "    <tr style=\"text-align: right;\">\n",
       "      <th></th>\n",
       "      <th>count</th>\n",
       "      <th>unique</th>\n",
       "      <th>top</th>\n",
       "      <th>freq</th>\n",
       "    </tr>\n",
       "  </thead>\n",
       "  <tbody>\n",
       "    <tr>\n",
       "      <th>account_balance</th>\n",
       "      <td>1000</td>\n",
       "      <td>4</td>\n",
       "      <td>'no account'</td>\n",
       "      <td>394</td>\n",
       "    </tr>\n",
       "    <tr>\n",
       "      <th>credit_history</th>\n",
       "      <td>1000</td>\n",
       "      <td>5</td>\n",
       "      <td>'existing paid'</td>\n",
       "      <td>530</td>\n",
       "    </tr>\n",
       "    <tr>\n",
       "      <th>purpose</th>\n",
       "      <td>1000</td>\n",
       "      <td>10</td>\n",
       "      <td>radio/tv</td>\n",
       "      <td>280</td>\n",
       "    </tr>\n",
       "    <tr>\n",
       "      <th>savings_status</th>\n",
       "      <td>1000</td>\n",
       "      <td>5</td>\n",
       "      <td>'&lt;100'</td>\n",
       "      <td>603</td>\n",
       "    </tr>\n",
       "    <tr>\n",
       "      <th>employment</th>\n",
       "      <td>1000</td>\n",
       "      <td>5</td>\n",
       "      <td>'1&lt;=X&lt;4'</td>\n",
       "      <td>339</td>\n",
       "    </tr>\n",
       "    <tr>\n",
       "      <th>personal_status</th>\n",
       "      <td>1000</td>\n",
       "      <td>4</td>\n",
       "      <td>'male single'</td>\n",
       "      <td>548</td>\n",
       "    </tr>\n",
       "    <tr>\n",
       "      <th>other_parties</th>\n",
       "      <td>1000</td>\n",
       "      <td>3</td>\n",
       "      <td>none</td>\n",
       "      <td>907</td>\n",
       "    </tr>\n",
       "    <tr>\n",
       "      <th>property_magnitude</th>\n",
       "      <td>1000</td>\n",
       "      <td>4</td>\n",
       "      <td>car</td>\n",
       "      <td>332</td>\n",
       "    </tr>\n",
       "    <tr>\n",
       "      <th>other_payment_plans</th>\n",
       "      <td>1000</td>\n",
       "      <td>3</td>\n",
       "      <td>none</td>\n",
       "      <td>814</td>\n",
       "    </tr>\n",
       "    <tr>\n",
       "      <th>housing</th>\n",
       "      <td>1000</td>\n",
       "      <td>3</td>\n",
       "      <td>own</td>\n",
       "      <td>713</td>\n",
       "    </tr>\n",
       "    <tr>\n",
       "      <th>job</th>\n",
       "      <td>1000</td>\n",
       "      <td>4</td>\n",
       "      <td>skilled</td>\n",
       "      <td>630</td>\n",
       "    </tr>\n",
       "    <tr>\n",
       "      <th>own_telephone</th>\n",
       "      <td>1000</td>\n",
       "      <td>2</td>\n",
       "      <td>none</td>\n",
       "      <td>596</td>\n",
       "    </tr>\n",
       "    <tr>\n",
       "      <th>foreign</th>\n",
       "      <td>1000</td>\n",
       "      <td>2</td>\n",
       "      <td>yes</td>\n",
       "      <td>963</td>\n",
       "    </tr>\n",
       "    <tr>\n",
       "      <th>target</th>\n",
       "      <td>1000</td>\n",
       "      <td>2</td>\n",
       "      <td>good</td>\n",
       "      <td>700</td>\n",
       "    </tr>\n",
       "  </tbody>\n",
       "</table>\n",
       "</div>"
      ],
      "text/plain": [
       "                    count unique              top freq\n",
       "account_balance      1000      4     'no account'  394\n",
       "credit_history       1000      5  'existing paid'  530\n",
       "purpose              1000     10         radio/tv  280\n",
       "savings_status       1000      5           '<100'  603\n",
       "employment           1000      5         '1<=X<4'  339\n",
       "personal_status      1000      4    'male single'  548\n",
       "other_parties        1000      3             none  907\n",
       "property_magnitude   1000      4              car  332\n",
       "other_payment_plans  1000      3             none  814\n",
       "housing              1000      3              own  713\n",
       "job                  1000      4          skilled  630\n",
       "own_telephone        1000      2             none  596\n",
       "foreign              1000      2              yes  963\n",
       "target               1000      2             good  700"
      ]
     },
     "execution_count": 4,
     "metadata": {},
     "output_type": "execute_result"
    }
   ],
   "source": [
    "# to explore the strings\n",
    "german_credit.describe(include = ['O']).transpose()"
   ]
  },
  {
   "cell_type": "markdown",
   "metadata": {},
   "source": [
    "### Descriptive statistics of the numerical predictors"
   ]
  },
  {
   "cell_type": "markdown",
   "metadata": {},
   "source": [
    "The interquartile range (IQR) is a measure of variability, based on dividing a data set into quartiles.\n",
    "Quartiles divide a rank-ordered data set into four equal parts. \n",
    "Q1 is the \"middle\" value in the first half of the rank-ordered data set.\n",
    "Q2 is the median value in the set.\n",
    "Q3 is the \"middle\" value in the second half of the rank-ordered data set"
   ]
  },
  {
   "cell_type": "code",
   "execution_count": 103,
   "metadata": {
    "collapsed": false
   },
   "outputs": [
    {
     "data": {
      "image/png": "[encoded data removed]",
      "text/plain": [
       "<matplotlib.figure.Figure at 0x10faba350>"
      ]
     },
     "metadata": {},
     "output_type": "display_data"
    }
   ],
   "source": [
    "plt.figure(figsize=(12,10))\n",
    "sns.distplot(german_credit.duration, bins=10, color='g') ;\n",
    "plt.xlabel('Loan Period [Months]')\n",
    "plt.ylabel('Frequency')\n",
    "plt.show()"
   ]
  },
  {
   "cell_type": "code",
   "execution_count": 59,
   "metadata": {
    "collapsed": false
   },
   "outputs": [
    {
     "data": {
      "image/png": "[encoded data removed]",
      "text/plain": [
       "<matplotlib.figure.Figure at 0x1021d2910>"
      ]
     },
     "metadata": {},
     "output_type": "display_data"
    }
   ],
   "source": [
    "import matplotlib.pyplot as plt\n",
    "\n",
    "plt.figure(figsize=(8,6))\n",
    "plt.boxplot(german_credit.duration)\n",
    "plt.xlabel('Loan Period [Months]')\n",
    "plt.show()"
   ]
  },
  {
   "cell_type": "markdown",
   "metadata": {},
   "source": [
    "## Model evaluation\n"
   ]
  },
  {
   "cell_type": "markdown",
   "metadata": {},
   "source": [
    "When a bank receives a loan application, based on the applicant’s profile the bank has to make a decision regarding whether to go ahead with the loan approval or not. Two types of risks are associated with the bank’s decision:\n",
    "1. If the applicant got a good credit risk, i.e is likely to repay the loan, then not approving the loan to a person results in a loss of business to the bank.\n",
    "2.\tIf the applicant got a bad credit risk, i.e is not likely to repay the loan, then approving the loan to a person results in a financial loss the bank.\n",
    "\n",
    "The goal is to minimize loss from the bank’s perspective using a decision engine regarding who to give the approval of the load and who not to. An applicant’s demographic and social-economic profiles are considered by loan managers before a decision is taken regarding his/her loan application\n"
   ]
  },
  {
   "cell_type": "markdown",
   "metadata": {},
   "source": [
    "### Training and testing datasets"
   ]
  },
  {
   "cell_type": "markdown",
   "metadata": {},
   "source": [
    "In order to be able to evaluate the prediction power of a method it is desirable to split the data set into two datasets:\n",
    "1.\tTraining dataset: the models are built based on the observations included in this set. This set of the data mimics the “historical” data used to tune the parameters of each one of the classifier.\n",
    "2.\tTesting dataset: the model is applied on this set to evaluate its performance. It can be considered as new applicant for credit to be evaluated on these 20 predictor values. The credit scoring that these customers are used to evaluate t what extend the classification is correct.\n"
   ]
  },
  {
   "cell_type": "markdown",
   "metadata": {},
   "source": [
    "**Note:** In order to fit in Python, we need tranfer all categorical features to numbers:"
   ]
  },
  {
   "cell_type": "code",
   "execution_count": 17,
   "metadata": {
    "collapsed": false
   },
   "outputs": [],
   "source": [
    "from patsy import dmatrices\n",
    "\n",
    "y, X = dmatrices('target ~ account_balance + duration + credit_history + purpose + credit_amount + savings_status +\\\n",
    "                 employment + installment_commitment + personal_status + other_parties + residence_since + property_magnitude +\\\n",
    "                 age + other_payment_plans + housing + existing_credits + job + num_dependents + own_telephone + foreign',\n",
    "                 german_credit, return_type=\"dataframe\")\n"
   ]
  },
  {
   "cell_type": "code",
   "execution_count": 18,
   "metadata": {
    "collapsed": false
   },
   "outputs": [
    {
     "data": {
      "text/html": [
       "<div>\n",
       "<table border=\"1\" class=\"dataframe\">\n",
       "  <thead>\n",
       "    <tr style=\"text-align: right;\">\n",
       "      <th></th>\n",
       "      <th>Intercept</th>\n",
       "      <th>account_balance[T.'&lt;0']</th>\n",
       "      <th>account_balance[T.'&gt;=200']</th>\n",
       "      <th>account_balance[T.'no account']</th>\n",
       "      <th>credit_history[T.'critical/other existing credit']</th>\n",
       "      <th>credit_history[T.'delayed previously']</th>\n",
       "      <th>credit_history[T.'existing paid']</th>\n",
       "      <th>credit_history[T.'no credits/all paid']</th>\n",
       "      <th>purpose[T.'new car']</th>\n",
       "      <th>purpose[T.'used car']</th>\n",
       "      <th>...</th>\n",
       "      <th>job[T.skilled]</th>\n",
       "      <th>own_telephone[T.yes]</th>\n",
       "      <th>foreign[T.yes]</th>\n",
       "      <th>duration</th>\n",
       "      <th>credit_amount</th>\n",
       "      <th>installment_commitment</th>\n",
       "      <th>residence_since</th>\n",
       "      <th>age</th>\n",
       "      <th>existing_credits</th>\n",
       "      <th>num_dependents</th>\n",
       "    </tr>\n",
       "  </thead>\n",
       "  <tbody>\n",
       "    <tr>\n",
       "      <th>0</th>\n",
       "      <td>1.0</td>\n",
       "      <td>1.0</td>\n",
       "      <td>0.0</td>\n",
       "      <td>0.0</td>\n",
       "      <td>1.0</td>\n",
       "      <td>0.0</td>\n",
       "      <td>0.0</td>\n",
       "      <td>0.0</td>\n",
       "      <td>0.0</td>\n",
       "      <td>0.0</td>\n",
       "      <td>...</td>\n",
       "      <td>1.0</td>\n",
       "      <td>1.0</td>\n",
       "      <td>1.0</td>\n",
       "      <td>6.0</td>\n",
       "      <td>1169.0</td>\n",
       "      <td>4.0</td>\n",
       "      <td>4.0</td>\n",
       "      <td>67.0</td>\n",
       "      <td>2.0</td>\n",
       "      <td>1.0</td>\n",
       "    </tr>\n",
       "    <tr>\n",
       "      <th>1</th>\n",
       "      <td>1.0</td>\n",
       "      <td>0.0</td>\n",
       "      <td>0.0</td>\n",
       "      <td>0.0</td>\n",
       "      <td>0.0</td>\n",
       "      <td>0.0</td>\n",
       "      <td>1.0</td>\n",
       "      <td>0.0</td>\n",
       "      <td>0.0</td>\n",
       "      <td>0.0</td>\n",
       "      <td>...</td>\n",
       "      <td>1.0</td>\n",
       "      <td>0.0</td>\n",
       "      <td>1.0</td>\n",
       "      <td>48.0</td>\n",
       "      <td>5951.0</td>\n",
       "      <td>2.0</td>\n",
       "      <td>2.0</td>\n",
       "      <td>22.0</td>\n",
       "      <td>1.0</td>\n",
       "      <td>1.0</td>\n",
       "    </tr>\n",
       "  </tbody>\n",
       "</table>\n",
       "<p>2 rows × 49 columns</p>\n",
       "</div>"
      ],
      "text/plain": [
       "   Intercept  account_balance[T.'<0']  account_balance[T.'>=200']  \\\n",
       "0        1.0                      1.0                         0.0   \n",
       "1        1.0                      0.0                         0.0   \n",
       "\n",
       "   account_balance[T.'no account']  \\\n",
       "0                              0.0   \n",
       "1                              0.0   \n",
       "\n",
       "   credit_history[T.'critical/other existing credit']  \\\n",
       "0                                                1.0    \n",
       "1                                                0.0    \n",
       "\n",
       "   credit_history[T.'delayed previously']  credit_history[T.'existing paid']  \\\n",
       "0                                     0.0                                0.0   \n",
       "1                                     0.0                                1.0   \n",
       "\n",
       "   credit_history[T.'no credits/all paid']  purpose[T.'new car']  \\\n",
       "0                                      0.0                   0.0   \n",
       "1                                      0.0                   0.0   \n",
       "\n",
       "   purpose[T.'used car']       ...        job[T.skilled]  \\\n",
       "0                    0.0       ...                   1.0   \n",
       "1                    0.0       ...                   1.0   \n",
       "\n",
       "   own_telephone[T.yes]  foreign[T.yes]  duration  credit_amount  \\\n",
       "0                   1.0             1.0       6.0         1169.0   \n",
       "1                   0.0             1.0      48.0         5951.0   \n",
       "\n",
       "   installment_commitment  residence_since   age  existing_credits  \\\n",
       "0                     4.0              4.0  67.0               2.0   \n",
       "1                     2.0              2.0  22.0               1.0   \n",
       "\n",
       "   num_dependents  \n",
       "0             1.0  \n",
       "1             1.0  \n",
       "\n",
       "[2 rows x 49 columns]"
      ]
     },
     "execution_count": 18,
     "metadata": {},
     "output_type": "execute_result"
    }
   ],
   "source": [
    "X.head(2)"
   ]
  },
  {
   "cell_type": "code",
   "execution_count": 18,
   "metadata": {
    "collapsed": false
   },
   "outputs": [
    {
     "data": {
      "text/html": [
       "<div>\n",
       "<table border=\"1\" class=\"dataframe\">\n",
       "  <thead>\n",
       "    <tr style=\"text-align: right;\">\n",
       "      <th></th>\n",
       "      <th>target[bad]</th>\n",
       "      <th>target[good]</th>\n",
       "    </tr>\n",
       "  </thead>\n",
       "  <tbody>\n",
       "    <tr>\n",
       "      <th>0</th>\n",
       "      <td>0.0</td>\n",
       "      <td>1.0</td>\n",
       "    </tr>\n",
       "    <tr>\n",
       "      <th>1</th>\n",
       "      <td>1.0</td>\n",
       "      <td>0.0</td>\n",
       "    </tr>\n",
       "  </tbody>\n",
       "</table>\n",
       "</div>"
      ],
      "text/plain": [
       "   target[bad]  target[good]\n",
       "0          0.0           1.0\n",
       "1          1.0           0.0"
      ]
     },
     "execution_count": 18,
     "metadata": {},
     "output_type": "execute_result"
    }
   ],
   "source": [
    "y.head(2)"
   ]
  },
  {
   "cell_type": "markdown",
   "metadata": {},
   "source": [
    "We then split the german_credit data into a training (80%) and testing (20%) by using *train_test_split* and then set seed to ensure the results are reproducible."
   ]
  },
  {
   "cell_type": "markdown",
   "metadata": {},
   "source": [
    "**TIP:** you can see that our target contains 2 possible outcomes: good and bad. To make our model learn we need to transform those into binary values. Then we can use only one of the values (since they are complimentary)"
   ]
  },
  {
   "cell_type": "code",
   "execution_count": 80,
   "metadata": {
    "collapsed": false
   },
   "outputs": [],
   "source": [
    "from sklearn.model_selection import train_test_split\n",
    "from sklearn.preprocessing import label_binarize\n",
    "\n",
    "y = label_binarize(y, classes=['good', 'bad'])\n",
    "\n",
    "# shuffle and split training and test sets in this case we will have 70 bad and 130 good\n",
    "X_train, X_test, y_train, y_test = train_test_split(X, y[:,0], test_size=0.2, random_state=1017)"
   ]
  },
  {
   "cell_type": "markdown",
   "metadata": {},
   "source": [
    "We can now fix the column names of the data so we can understand them later:"
   ]
  },
  {
   "cell_type": "code",
   "execution_count": 81,
   "metadata": {
    "collapsed": false
   },
   "outputs": [],
   "source": [
    "X = X.rename(columns = {'account_balance[T.\\'<0\\']':'AB_1',\n",
    "'account_balance[T.\\'>=200\\']':'AB_2',\n",
    "'account_balance[T.\\'no account\\']':'AB_3',\n",
    "'credit_history[T.\\'critical/other existing credit\\']':'CH_1',\n",
    "'credit_history[T.\\'delayed previously\\']':'CH_2',\n",
    "'credit_history[T.\\'existing paid\\']':'CH_3',\n",
    "'credit_history[T.\\'no credits/all paid\\']' :'CH_4',\n",
    "'purpose[T.\\'new car\\']':'PU_1',\n",
    "'purpose[T.\\'used car\\']':'PU_2',\n",
    "'purpose[T.business]':'PU_3',\n",
    "'purpose[T.education]':'PU_4',\n",
    "'purpose[T.furniture/equipment]':'PU_5',\n",
    "'purpose[T.other]':'PU_6',\n",
    "'purpose[T.radio/tv]':'PU_7',\n",
    "'purpose[T.repairs]':'PU_8',\n",
    "'purpose[T.retraining]':'PU_9',\n",
    "'savings_status[T.\\'500<=X<1000\\']':'SS_1',\n",
    "'savings_status[T.\\'<100\\']':'SS_2',\n",
    "'savings_status[T.\\'>=1000\\']':'SS_3',\n",
    "'savings_status[T.\\'no known savings\\']':'SS_4',\n",
    "'employment[T.\\'4<=X<7\\']':'EM_1',\n",
    "'employment[T.\\'<1\\']':'EM_2',\n",
    "'employment[T.\\'>=7\\']':'EM_3',\n",
    "'employment[T.unemployed]':'EM_4',\n",
    "'personal_status[T.\\'male div/sep\\']':'PS_1',\n",
    "'personal_status[T.\\'male mar/wid\\']':'PS_2',\n",
    "'personal_status[T.\\'male single\\']':'PS_3',\n",
    "'other_parties[T.guarantor]':'OP_1',\n",
    "'other_parties[T.none]':'OP_2',\n",
    "'property_magnitude[T.\\'no known property\\']':'PM_1',\n",
    "'property_magnitude[T.\\'real estate\\']':'PM_2',\n",
    "'property_magnitude[T.car]':'PM_3',\n",
    "'other_payment_plans[T.none]':'OP_1',\n",
    "'other_payment_plans[T.stores]':'OP_2',\n",
    "'housing[T.own]':'HO_1',\n",
    "'housing[T.rent]':'HO_2',\n",
    "'job[T.\\'unemp/unskilled non res\\']':'JO_1',\n",
    "'job[T.\\'unskilled resident\\']':'JO_2',\n",
    "'job[T.skilled]':'JO_3',\n",
    "'own_telephone[T.yes]':'OT_1',\n",
    "'foreign[T.yes]':'FO_1'})\n",
    "\n"
   ]
  },
  {
   "cell_type": "markdown",
   "metadata": {},
   "source": [
    "## Modeling"
   ]
  },
  {
   "cell_type": "markdown",
   "metadata": {},
   "source": [
    "The models selected below can be considered as the reference models each one optimal in a different scenarios. They are commonly used as benchmark for new machine learning algorithms.\n",
    "1.\tLogistic regression\n",
    "2.\tNaïve Bayes\n",
    "3.\tClassification tree\n",
    "4.\tRandom forest\n",
    "5.\tSupport vector Machine (SVM)\n",
    "\n",
    "\n",
    "For each one of them the following sequence is performed:\n",
    "1.\tCalculate the linear regression and display the obtained model along with the most relevant statistics\n",
    "2.\tCalculate the AUC\n",
    "3.\tDraw the ROC\n",
    "4.\tCalculate the optimal threshold (using training data)\n",
    "5.\tBuild the confusion matrix for the tests data using the optimal threshold\n",
    "6.\tCalculate the Learned model accuracy\n",
    "7.\tCalculate the Miss-qualification loss\n"
   ]
  },
  {
   "cell_type": "markdown",
   "metadata": {},
   "source": [
    "### Logistic regression\n",
    "Reference: http://scikit-learn.org/stable/modules/generated/sklearn.linear_model.LogisticRegression.html"
   ]
  },
  {
   "cell_type": "markdown",
   "metadata": {},
   "source": [
    "#### 1.\tCalculate the model and display relevant statistics\n",
    "\n",
    "Let's run the model on the training data set, and see how accurate it is!"
   ]
  },
  {
   "cell_type": "code",
   "execution_count": 86,
   "metadata": {
    "collapsed": false
   },
   "outputs": [
    {
     "data": {
      "text/plain": [
       "LogisticRegression(C=1.0, class_weight=None, dual=False, fit_intercept=True,\n",
       "          intercept_scaling=1, max_iter=100, multi_class='ovr', n_jobs=1,\n",
       "          penalty='l2', random_state=None, solver='liblinear', tol=0.0001,\n",
       "          verbose=0, warm_start=False)"
      ]
     },
     "execution_count": 86,
     "metadata": {},
     "output_type": "execute_result"
    }
   ],
   "source": [
    "from sklearn.linear_model import LogisticRegression\n",
    "import numpy as np\n",
    "from sklearn import preprocessing \n",
    "\n",
    "logreg = LogisticRegression()\n",
    "\n",
    "logreg.fit(X_train, y_train)"
   ]
  },
  {
   "cell_type": "markdown",
   "metadata": {},
   "source": [
    "Let's examine the coefficients to see what we learn."
   ]
  },
  {
   "cell_type": "code",
   "execution_count": 105,
   "metadata": {
    "collapsed": false
   },
   "outputs": [
    {
     "data": {
      "text/html": [
       "<div>\n",
       "<table border=\"1\" class=\"dataframe\">\n",
       "  <thead>\n",
       "    <tr style=\"text-align: right;\">\n",
       "      <th></th>\n",
       "      <th>Predictor</th>\n",
       "      <th>Cooficients</th>\n",
       "      <th>pvalues</th>\n",
       "    </tr>\n",
       "  </thead>\n",
       "  <tbody>\n",
       "    <tr>\n",
       "      <th>0</th>\n",
       "      <td>Intercept</td>\n",
       "      <td>[0.6632546632]</td>\n",
       "      <td>nan</td>\n",
       "    </tr>\n",
       "    <tr>\n",
       "      <th>1</th>\n",
       "      <td>AB_1</td>\n",
       "      <td>[-0.434514243465]</td>\n",
       "      <td>0.00000000</td>\n",
       "    </tr>\n",
       "    <tr>\n",
       "      <th>2</th>\n",
       "      <td>AB_2</td>\n",
       "      <td>[0.615833155188]</td>\n",
       "      <td>0.18343449</td>\n",
       "    </tr>\n",
       "    <tr>\n",
       "      <th>3</th>\n",
       "      <td>AB_3</td>\n",
       "      <td>[1.21817794952]</td>\n",
       "      <td>0.00000000</td>\n",
       "    </tr>\n",
       "    <tr>\n",
       "      <th>4</th>\n",
       "      <td>CH_1</td>\n",
       "      <td>[1.18775083306]</td>\n",
       "      <td>0.00000083</td>\n",
       "    </tr>\n",
       "    <tr>\n",
       "      <th>5</th>\n",
       "      <td>CH_2</td>\n",
       "      <td>[0.610283404289]</td>\n",
       "      <td>0.54793068</td>\n",
       "    </tr>\n",
       "    <tr>\n",
       "      <th>6</th>\n",
       "      <td>CH_3</td>\n",
       "      <td>[0.498974160213]</td>\n",
       "      <td>0.28681457</td>\n",
       "    </tr>\n",
       "    <tr>\n",
       "      <th>7</th>\n",
       "      <td>CH_4</td>\n",
       "      <td>[0.152377982562]</td>\n",
       "      <td>0.00133787</td>\n",
       "    </tr>\n",
       "    <tr>\n",
       "      <th>8</th>\n",
       "      <td>PU_1</td>\n",
       "      <td>[-0.671300728886]</td>\n",
       "      <td>0.00143842</td>\n",
       "    </tr>\n",
       "    <tr>\n",
       "      <th>9</th>\n",
       "      <td>PU_2</td>\n",
       "      <td>[0.997106528021]</td>\n",
       "      <td>0.00158979</td>\n",
       "    </tr>\n",
       "    <tr>\n",
       "      <th>10</th>\n",
       "      <td>PU_3</td>\n",
       "      <td>[0.201716813669]</td>\n",
       "      <td>0.40198723</td>\n",
       "    </tr>\n",
       "    <tr>\n",
       "      <th>11</th>\n",
       "      <td>PU_4</td>\n",
       "      <td>[-0.531844002085]</td>\n",
       "      <td>0.03800829</td>\n",
       "    </tr>\n",
       "    <tr>\n",
       "      <th>12</th>\n",
       "      <td>PU_5</td>\n",
       "      <td>[0.301370925347]</td>\n",
       "      <td>0.96885362</td>\n",
       "    </tr>\n",
       "    <tr>\n",
       "      <th>13</th>\n",
       "      <td>PU_6</td>\n",
       "      <td>[0.483865133226]</td>\n",
       "      <td>0.57481164</td>\n",
       "    </tr>\n",
       "    <tr>\n",
       "      <th>14</th>\n",
       "      <td>PU_7</td>\n",
       "      <td>[0.206236811921]</td>\n",
       "      <td>0.01528851</td>\n",
       "    </tr>\n",
       "    <tr>\n",
       "      <th>15</th>\n",
       "      <td>PU_8</td>\n",
       "      <td>[-0.218789086542]</td>\n",
       "      <td>0.81273182</td>\n",
       "    </tr>\n",
       "    <tr>\n",
       "      <th>16</th>\n",
       "      <td>PU_9</td>\n",
       "      <td>[0.1393936493]</td>\n",
       "      <td>0.30802799</td>\n",
       "    </tr>\n",
       "    <tr>\n",
       "      <th>17</th>\n",
       "      <td>SS_1</td>\n",
       "      <td>[0.0960456240804]</td>\n",
       "      <td>0.08300539</td>\n",
       "    </tr>\n",
       "    <tr>\n",
       "      <th>18</th>\n",
       "      <td>SS_2</td>\n",
       "      <td>[-0.442865800443]</td>\n",
       "      <td>0.00001748</td>\n",
       "    </tr>\n",
       "    <tr>\n",
       "      <th>19</th>\n",
       "      <td>SS_3</td>\n",
       "      <td>[0.307017388088]</td>\n",
       "      <td>0.05327412</td>\n",
       "    </tr>\n",
       "    <tr>\n",
       "      <th>20</th>\n",
       "      <td>SS_4</td>\n",
       "      <td>[0.467027825876]</td>\n",
       "      <td>0.00087298</td>\n",
       "    </tr>\n",
       "    <tr>\n",
       "      <th>21</th>\n",
       "      <td>EM_1</td>\n",
       "      <td>[0.578429462804]</td>\n",
       "      <td>0.01776518</td>\n",
       "    </tr>\n",
       "    <tr>\n",
       "      <th>22</th>\n",
       "      <td>EM_2</td>\n",
       "      <td>[-0.243522315044]</td>\n",
       "      <td>0.00242914</td>\n",
       "    </tr>\n",
       "    <tr>\n",
       "      <th>23</th>\n",
       "      <td>EM_3</td>\n",
       "      <td>[-0.0718232059748]</td>\n",
       "      <td>0.22930019</td>\n",
       "    </tr>\n",
       "    <tr>\n",
       "      <th>24</th>\n",
       "      <td>EM_4</td>\n",
       "      <td>[0.0810567391539]</td>\n",
       "      <td>0.57114529</td>\n",
       "    </tr>\n",
       "    <tr>\n",
       "      <th>25</th>\n",
       "      <td>PS_1</td>\n",
       "      <td>[-0.034468097363]</td>\n",
       "      <td>0.38019270</td>\n",
       "    </tr>\n",
       "    <tr>\n",
       "      <th>26</th>\n",
       "      <td>PS_2</td>\n",
       "      <td>[0.16235734394]</td>\n",
       "      <td>0.65433725</td>\n",
       "    </tr>\n",
       "    <tr>\n",
       "      <th>27</th>\n",
       "      <td>PS_3</td>\n",
       "      <td>[0.571317671575]</td>\n",
       "      <td>0.02742603</td>\n",
       "    </tr>\n",
       "    <tr>\n",
       "      <th>28</th>\n",
       "      <td>OP_1</td>\n",
       "      <td>[0.769574710486]</td>\n",
       "      <td>0.21154969</td>\n",
       "    </tr>\n",
       "    <tr>\n",
       "      <th>29</th>\n",
       "      <td>OP_2</td>\n",
       "      <td>[0.0519734300089]</td>\n",
       "      <td>0.62262519</td>\n",
       "    </tr>\n",
       "    <tr>\n",
       "      <th>30</th>\n",
       "      <td>PM_1</td>\n",
       "      <td>[-0.329523138572]</td>\n",
       "      <td>0.00192661</td>\n",
       "    </tr>\n",
       "    <tr>\n",
       "      <th>31</th>\n",
       "      <td>PM_2</td>\n",
       "      <td>[0.275977076175]</td>\n",
       "      <td>0.00152703</td>\n",
       "    </tr>\n",
       "    <tr>\n",
       "      <th>32</th>\n",
       "      <td>PM_3</td>\n",
       "      <td>[-0.0312171107936]</td>\n",
       "      <td>0.37093884</td>\n",
       "    </tr>\n",
       "    <tr>\n",
       "      <th>33</th>\n",
       "      <td>OP_1</td>\n",
       "      <td>[0.842329813793]</td>\n",
       "      <td>0.00002096</td>\n",
       "    </tr>\n",
       "    <tr>\n",
       "      <th>34</th>\n",
       "      <td>OP_2</td>\n",
       "      <td>[0.165090663891]</td>\n",
       "      <td>0.13296563</td>\n",
       "    </tr>\n",
       "    <tr>\n",
       "      <th>35</th>\n",
       "      <td>HO_1</td>\n",
       "      <td>[0.0361519586736]</td>\n",
       "      <td>0.00127811</td>\n",
       "    </tr>\n",
       "    <tr>\n",
       "      <th>36</th>\n",
       "      <td>HO_2</td>\n",
       "      <td>[-0.430449132955]</td>\n",
       "      <td>0.01498891</td>\n",
       "    </tr>\n",
       "    <tr>\n",
       "      <th>37</th>\n",
       "      <td>JO_1</td>\n",
       "      <td>[0.231310247815]</td>\n",
       "      <td>0.82365620</td>\n",
       "    </tr>\n",
       "    <tr>\n",
       "      <th>38</th>\n",
       "      <td>JO_2</td>\n",
       "      <td>[0.181632971088]</td>\n",
       "      <td>0.13143899</td>\n",
       "    </tr>\n",
       "    <tr>\n",
       "      <th>39</th>\n",
       "      <td>JO_3</td>\n",
       "      <td>[-0.029392765387]</td>\n",
       "      <td>0.64933031</td>\n",
       "    </tr>\n",
       "    <tr>\n",
       "      <th>40</th>\n",
       "      <td>OT_1</td>\n",
       "      <td>[0.135258950152]</td>\n",
       "      <td>0.36272995</td>\n",
       "    </tr>\n",
       "    <tr>\n",
       "      <th>41</th>\n",
       "      <td>FO_1</td>\n",
       "      <td>[-0.715631172996]</td>\n",
       "      <td>0.02057802</td>\n",
       "    </tr>\n",
       "    <tr>\n",
       "      <th>42</th>\n",
       "      <td>duration</td>\n",
       "      <td>[-0.0311232074301]</td>\n",
       "      <td>0.00000000</td>\n",
       "    </tr>\n",
       "    <tr>\n",
       "      <th>43</th>\n",
       "      <td>credit_amount</td>\n",
       "      <td>[-9.20766704189e-05]</td>\n",
       "      <td>0.00038363</td>\n",
       "    </tr>\n",
       "    <tr>\n",
       "      <th>44</th>\n",
       "      <td>installment_commitment</td>\n",
       "      <td>[-0.31126174134]</td>\n",
       "      <td>0.01352084</td>\n",
       "    </tr>\n",
       "    <tr>\n",
       "      <th>45</th>\n",
       "      <td>residence_since</td>\n",
       "      <td>[0.0305843113274]</td>\n",
       "      <td>0.99506057</td>\n",
       "    </tr>\n",
       "    <tr>\n",
       "      <th>46</th>\n",
       "      <td>age</td>\n",
       "      <td>[0.0197479730454]</td>\n",
       "      <td>0.00909435</td>\n",
       "    </tr>\n",
       "    <tr>\n",
       "      <th>47</th>\n",
       "      <td>existing_credits</td>\n",
       "      <td>[-0.164372366436]</td>\n",
       "      <td>0.17593645</td>\n",
       "    </tr>\n",
       "    <tr>\n",
       "      <th>48</th>\n",
       "      <td>num_dependents</td>\n",
       "      <td>[-0.175314648025]</td>\n",
       "      <td>0.76828768</td>\n",
       "    </tr>\n",
       "  </tbody>\n",
       "</table>\n",
       "</div>"
      ],
      "text/plain": [
       "                 Predictor           Cooficients    pvalues\n",
       "0                Intercept        [0.6632546632]        nan\n",
       "1                     AB_1     [-0.434514243465] 0.00000000\n",
       "2                     AB_2      [0.615833155188] 0.18343449\n",
       "3                     AB_3       [1.21817794952] 0.00000000\n",
       "4                     CH_1       [1.18775083306] 0.00000083\n",
       "5                     CH_2      [0.610283404289] 0.54793068\n",
       "6                     CH_3      [0.498974160213] 0.28681457\n",
       "7                     CH_4      [0.152377982562] 0.00133787\n",
       "8                     PU_1     [-0.671300728886] 0.00143842\n",
       "9                     PU_2      [0.997106528021] 0.00158979\n",
       "10                    PU_3      [0.201716813669] 0.40198723\n",
       "11                    PU_4     [-0.531844002085] 0.03800829\n",
       "12                    PU_5      [0.301370925347] 0.96885362\n",
       "13                    PU_6      [0.483865133226] 0.57481164\n",
       "14                    PU_7      [0.206236811921] 0.01528851\n",
       "15                    PU_8     [-0.218789086542] 0.81273182\n",
       "16                    PU_9        [0.1393936493] 0.30802799\n",
       "17                    SS_1     [0.0960456240804] 0.08300539\n",
       "18                    SS_2     [-0.442865800443] 0.00001748\n",
       "19                    SS_3      [0.307017388088] 0.05327412\n",
       "20                    SS_4      [0.467027825876] 0.00087298\n",
       "21                    EM_1      [0.578429462804] 0.01776518\n",
       "22                    EM_2     [-0.243522315044] 0.00242914\n",
       "23                    EM_3    [-0.0718232059748] 0.22930019\n",
       "24                    EM_4     [0.0810567391539] 0.57114529\n",
       "25                    PS_1     [-0.034468097363] 0.38019270\n",
       "26                    PS_2       [0.16235734394] 0.65433725\n",
       "27                    PS_3      [0.571317671575] 0.02742603\n",
       "28                    OP_1      [0.769574710486] 0.21154969\n",
       "29                    OP_2     [0.0519734300089] 0.62262519\n",
       "30                    PM_1     [-0.329523138572] 0.00192661\n",
       "31                    PM_2      [0.275977076175] 0.00152703\n",
       "32                    PM_3    [-0.0312171107936] 0.37093884\n",
       "33                    OP_1      [0.842329813793] 0.00002096\n",
       "34                    OP_2      [0.165090663891] 0.13296563\n",
       "35                    HO_1     [0.0361519586736] 0.00127811\n",
       "36                    HO_2     [-0.430449132955] 0.01498891\n",
       "37                    JO_1      [0.231310247815] 0.82365620\n",
       "38                    JO_2      [0.181632971088] 0.13143899\n",
       "39                    JO_3     [-0.029392765387] 0.64933031\n",
       "40                    OT_1      [0.135258950152] 0.36272995\n",
       "41                    FO_1     [-0.715631172996] 0.02057802\n",
       "42                duration    [-0.0311232074301] 0.00000000\n",
       "43           credit_amount  [-9.20766704189e-05] 0.00038363\n",
       "44  installment_commitment      [-0.31126174134] 0.01352084\n",
       "45         residence_since     [0.0305843113274] 0.99506057\n",
       "46                     age     [0.0197479730454] 0.00909435\n",
       "47        existing_credits     [-0.164372366436] 0.17593645\n",
       "48          num_dependents     [-0.175314648025] 0.76828768"
      ]
     },
     "execution_count": 105,
     "metadata": {},
     "output_type": "execute_result"
    }
   ],
   "source": [
    "pd.set_option('display.float_format', lambda x: '%.8f' % x) #to see the results in float and not in scientific format\n",
    "\n",
    "summary = pd.DataFrame(X.columns)\n",
    "summary = summary.rename(columns = {0:'Predictor'})\n",
    "summary['Cooficients'] = np.transpose(logreg.coef_).tolist()\n",
    "\n",
    "#add the p_values\n",
    "from sklearn import feature_selection\n",
    "\n",
    "model = feature_selection.SelectKBest(score_func=feature_selection.f_regression,k=4)\n",
    "results = model.fit(X_train, y_train)\n",
    "summary['pvalues'] = np.transpose(results.pvalues_).tolist()\n",
    "summary"
   ]
  },
  {
   "cell_type": "markdown",
   "metadata": {},
   "source": [
    "#### 2. Calculate the AUC"
   ]
  },
  {
   "cell_type": "code",
   "execution_count": 88,
   "metadata": {
    "collapsed": false
   },
   "outputs": [
    {
     "name": "stdout",
     "output_type": "stream",
     "text": [
      "0.809230769231\n"
     ]
    }
   ],
   "source": [
    "probsLR = logreg.predict_proba(X_test)\n",
    "\n",
    "from sklearn import metrics\n",
    "print (metrics.roc_auc_score(y_test, probsLR[:,1]))"
   ]
  },
  {
   "cell_type": "markdown",
   "metadata": {},
   "source": [
    "#### 3. Draw the ROC "
   ]
  },
  {
   "cell_type": "markdown",
   "metadata": {},
   "source": [
    "*Reminder:* **Confusion Matrix, precision, recall and ROC**\n",
    "\n",
    "Confusion matrix is a summary of the model results as actual values vs. predicted\n",
    "\n",
    "||          |      **Predicted**        |\n",
    "|----------|:-------------:|------:|\n",
    "||          |      Bad      |  Good |\n",
    "|**Actual** | Bad | TP | FN |\n",
    "|       | Good | FP| TN |\n",
    "\n",
    "**Precision** is the fraction of the relevant raised alers that are relevant to the user and calculated by:\n",
    "PPR = TP/(TP + FP)\n",
    "\n",
    "**Recall** is the fraction of the alerts that are relevant to the query that are successfully retrieved and calculated by:\n",
    "TPR = TP/P or FP/(TP + FN)\n",
    "\n",
    "** F1 **\n",
    "F1 is a measure of a test's accuracy and calculated by:\n",
    "F1 = 2 X (Precision X Recall)/ (Precision + Recall)\n",
    "\n",
    "***ROC*** is a graphical plot that illustrates the performance of a binary classifier system as its discrimination threshold is varied. The curve is created by plotting the *true positive rate (TPR)* against the *false positive rate (FPR)* at various threshold settings. \n",
    "The true-positive rate is also known as sensitivity, recall or probability of detection[1] in machine learning. The false-positive rate is also known as the fall-out or probability of false alarm[1] and can be calculated as (1 − specificity).\n",
    "\n",
    "**sensitivity, recall, hit rate, or true positive rate (TPR)**\n",
    "\n",
    "TPR = TP/P or FP/(TP + FN)\n",
    "\n",
    "**fall-out or false positive rate (FPR)**\n",
    "\n",
    "FPR = FP/N or FP/(FP + TN)\n",
    "\n",
    "https://en.wikipedia.org/wiki/Receiver_operating_characteristic"
   ]
  },
  {
   "cell_type": "code",
   "execution_count": 61,
   "metadata": {
    "collapsed": false
   },
   "outputs": [
    {
     "data": {
      "image/png": "[encoded data removed]",
      "text/plain": [
       "<matplotlib.figure.Figure at 0x1148d3510>"
      ]
     },
     "metadata": {},
     "output_type": "display_data"
    }
   ],
   "source": [
    "from sklearn.metrics import roc_curve, auc\n",
    "\n",
    "n_classes = 1\n",
    "\n",
    "# Learn to predict each class against the other\n",
    "y_score = probsLR[:,1]\n",
    "\n",
    "\n",
    "fprLR, tprLR, thrshLR = roc_curve(y_test, y_score)\n",
    "roc_aucLR = auc(fprLR, tprLR)\n",
    "\n",
    "\n",
    "plt.figure(figsize=(8,6))\n",
    "lw = 2\n",
    "plt.plot(fprLR, tprLR, color='red', lw=lw, label='ROC curve (area = %0.2f)' % roc_aucLR)\n",
    "plt.plot([0, 1], [0, 1], color='navy', lw=lw, linestyle='--')\n",
    "plt.xlim([0.0, 1.0])\n",
    "plt.ylim([0.0, 1.05])\n",
    "plt.xlabel('False Positive Rate')\n",
    "plt.ylabel('True Positive Rate')\n",
    "plt.title('Receiver operating characteristic LR')\n",
    "plt.legend(loc=\"lower right\")\n",
    "plt.show()"
   ]
  },
  {
   "cell_type": "markdown",
   "metadata": {},
   "source": [
    "#### 4.Calculate the optimal threshold (using training data)\n",
    "Let's calculate the optimal threshold (using the training data). The optimal cut off would be where tpr is high and fpr is low.\n",
    "tpr - (1-fpr) is zero or near to zero is the optimal cut off point"
   ]
  },
  {
   "cell_type": "code",
   "execution_count": 94,
   "metadata": {
    "collapsed": false
   },
   "outputs": [
    {
     "name": "stdout",
     "output_type": "stream",
     "text": [
      "        1-fpr        fpr          tf  thresholds        tpr\n",
      "44 0.73076923 0.26923077 -0.00219780  0.28949097 0.72857143\n"
     ]
    },
    {
     "data": {
      "text/plain": [
       "[]"
      ]
     },
     "execution_count": 94,
     "metadata": {},
     "output_type": "execute_result"
    },
    {
     "data": {
      "image/png": "[encoded data removed]",
      "text/plain": [
       "<matplotlib.figure.Figure at 0x118a05d10>"
      ]
     },
     "metadata": {},
     "output_type": "display_data"
    }
   ],
   "source": [
    "import pylab as pl\n",
    "\n",
    "i = np.arange(len(tprLR)) # index for df\n",
    "roc = pd.DataFrame({'fpr' : pd.Series(fprLR, index=i),\n",
    "                    'tpr' : pd.Series(tprLR, index = i), \n",
    "                    '1-fpr' : pd.Series(1-fprLR, index = i), \n",
    "                    'tf' : pd.Series(tprLR - (1-fprLR), index = i), \n",
    "                    'thresholds' : pd.Series( thrshLR , index = i)})\n",
    "print(roc.ix[(roc.tf-0).abs().argsort()[:1]])\n",
    "\n",
    "# Plot tpr vs 1-fpr\n",
    "fig, ax = pl.subplots(figsize=(8,6))\n",
    "pl.plot(roc['tpr'])\n",
    "pl.plot(roc['1-fpr'], color = 'red')\n",
    "pl.xlabel('1-False Positive Rate')\n",
    "pl.ylabel('True Positive Rate')\n",
    "pl.title('Receiver operating characteristic')\n",
    "ax.set_xticklabels([])"
   ]
  },
  {
   "cell_type": "markdown",
   "metadata": {},
   "source": [
    "#### 5. Build the confusion matrix for the tests data using the optimal threshold"
   ]
  },
  {
   "cell_type": "code",
   "execution_count": 63,
   "metadata": {
    "collapsed": false
   },
   "outputs": [
    {
     "name": "stdout",
     "output_type": "stream",
     "text": [
      "[[96 34]\n",
      " [19 51]]\n",
      "             precision    recall  f1-score   support\n",
      "\n",
      "          0       0.83      0.74      0.78       130\n",
      "          1       0.60      0.73      0.66        70\n",
      "\n",
      "avg / total       0.75      0.73      0.74       200\n",
      "\n"
     ]
    }
   ],
   "source": [
    "# Add prediction probability to dataframe\n",
    "probs = logreg.predict_proba(X_test)\n",
    "\n",
    "# Find prediction to the dataframe applying threshold\n",
    "threshold = roc.ix[(roc.tf-0).abs().argsort()[:1]].thresholds.values\n",
    "pred = np.where(probs[:,1] > threshold , 1, 0)\n",
    "\n",
    "# Print confusion Matrix\n",
    "from sklearn.metrics import confusion_matrix, classification_report\n",
    "conf_matrix_LR = confusion_matrix(y_test, pred)\n",
    "print( conf_matrix_LR )\n",
    "class_report_LR = classification_report(y_test, pred)\n",
    "print( class_report_LR )\n"
   ]
  },
  {
   "cell_type": "markdown",
   "metadata": {},
   "source": [
    "#### 6.\tCalculate the Learned model accuracy\n",
    "Now we can estimate model accuracy on the class labels for the test set. You can use the function *predict*\n"
   ]
  },
  {
   "cell_type": "code",
   "execution_count": 32,
   "metadata": {
    "collapsed": false
   },
   "outputs": [
    {
     "name": "stdout",
     "output_type": "stream",
     "text": [
      "0.75\n"
     ]
    }
   ],
   "source": [
    "predictedLR = logreg.predict(X_test)\n",
    "print (metrics.accuracy_score(y_test, predictedLR))"
   ]
  },
  {
   "cell_type": "markdown",
   "metadata": {},
   "source": [
    "#### 7. Calculate the loss\n"
   ]
  },
  {
   "cell_type": "code",
   "execution_count": 35,
   "metadata": {
    "collapsed": false
   },
   "outputs": [
    {
     "name": "stdout",
     "output_type": "stream",
     "text": [
      "129\n"
     ]
    }
   ],
   "source": [
    "loss_LR = L_GB*conf_matrix_LR[1,0] + L_BG*conf_matrix_LR[0,1]\n",
    "print(loss_LR)"
   ]
  },
  {
   "cell_type": "markdown",
   "metadata": {},
   "source": [
    "### Naive Bayesian\n",
    "\n",
    "reference - http://scikit-learn.org/stable/modules/naive_bayes.html"
   ]
  },
  {
   "cell_type": "markdown",
   "metadata": {},
   "source": [
    "#### 1.\tCalculate the model and display relevant statistics\n",
    "Since we already sliced our data into train and test we can go ahead and train our model"
   ]
  },
  {
   "cell_type": "code",
   "execution_count": 36,
   "metadata": {
    "collapsed": false
   },
   "outputs": [
    {
     "data": {
      "text/plain": [
       "GaussianNB(priors=None)"
      ]
     },
     "execution_count": 36,
     "metadata": {},
     "output_type": "execute_result"
    }
   ],
   "source": [
    "from sklearn.naive_bayes import GaussianNB\n",
    "\n",
    "naiveBayesModel = GaussianNB()\n",
    "naiveBayesModel.fit(X_train, y_train)  "
   ]
  },
  {
   "cell_type": "markdown",
   "metadata": {},
   "source": [
    "#### 2.\tCalculate the AUC"
   ]
  },
  {
   "cell_type": "code",
   "execution_count": 37,
   "metadata": {
    "collapsed": false
   },
   "outputs": [
    {
     "name": "stdout",
     "output_type": "stream",
     "text": [
      "0.82043956044\n"
     ]
    }
   ],
   "source": [
    "probsNB = naiveBayesModel.predict_proba(X_test)\n",
    "from sklearn import metrics\n",
    "print (metrics.roc_auc_score(y_test, probsNB[:,1]))"
   ]
  },
  {
   "cell_type": "markdown",
   "metadata": {},
   "source": [
    "#### 3.\tDraw the ROC"
   ]
  },
  {
   "cell_type": "code",
   "execution_count": 64,
   "metadata": {
    "collapsed": false
   },
   "outputs": [
    {
     "data": {
      "image/png": "[encoded data removed]",
      "text/plain": [
       "<matplotlib.figure.Figure at 0x118f1ae50>"
      ]
     },
     "metadata": {},
     "output_type": "display_data"
    }
   ],
   "source": [
    "from sklearn.metrics import roc_curve, auc\n",
    "\n",
    "n_classes = 1\n",
    "\n",
    "# Learn to predict each class against the other\n",
    "y_score = probsNB[:,1]\n",
    "\n",
    "\n",
    "fprNB, tprNB, thrshNB = roc_curve(y_test, y_score)\n",
    "roc_aucNB = auc(fprNB, tprNB)\n",
    "\n",
    "\n",
    "plt.figure()\n",
    "lw = 2\n",
    "plt.plot(fprNB, tprNB, color='red', lw=lw, label='ROC curve (area = %0.2f)' % roc_aucNB)\n",
    "plt.plot([0, 1], [0, 1], color='navy', lw=lw, linestyle='--')\n",
    "plt.xlim([0.0, 1.0])\n",
    "plt.ylim([0.0, 1.05])\n",
    "plt.xlabel('False Positive Rate')\n",
    "plt.ylabel('True Positive Rate')\n",
    "plt.title('Receiver operating characteristic NB')\n",
    "plt.legend(loc=\"lower right\")\n",
    "plt.show()"
   ]
  },
  {
   "cell_type": "markdown",
   "metadata": {},
   "source": [
    "#### 4.\tCalculate the optimal threshold (using training data)"
   ]
  },
  {
   "cell_type": "code",
   "execution_count": 39,
   "metadata": {
    "collapsed": false
   },
   "outputs": [
    {
     "name": "stdout",
     "output_type": "stream",
     "text": [
      "       1-fpr       fpr       tf  thresholds       tpr\n",
      "30  0.738462  0.261538 -0.00989    0.389802  0.728571\n"
     ]
    },
    {
     "data": {
      "text/plain": [
       "[]"
      ]
     },
     "execution_count": 39,
     "metadata": {},
     "output_type": "execute_result"
    },
    {
     "data": {
      "image/png": "[encoded data removed]",
      "text/plain": [
       "<matplotlib.figure.Figure at 0x117cfe250>"
      ]
     },
     "metadata": {},
     "output_type": "display_data"
    }
   ],
   "source": [
    "import pylab as pl\n",
    "\n",
    "i = np.arange(len(tprNB)) # index for df\n",
    "roc = pd.DataFrame({'fpr' : pd.Series(fprNB, index=i),\n",
    "                    'tpr' : pd.Series(tprNB, index = i), \n",
    "                    '1-fpr' : pd.Series(1-fprNB, index = i), \n",
    "                    'tf' : pd.Series(tprNB - (1-fprNB), index = i), \n",
    "                    'thresholds' : pd.Series(thrshNB, index = i)})\n",
    "print(roc.ix[(roc.tf-0).abs().argsort()[:1]])\n",
    "\n",
    "# Plot tpr vs 1-fpr\n",
    "fig, ax = pl.subplots()\n",
    "pl.plot(roc['tpr'])\n",
    "pl.plot(roc['1-fpr'], color = 'red')\n",
    "pl.xlabel('1-False Positive Rate')\n",
    "pl.ylabel('True Positive Rate')\n",
    "pl.title('Receiver operating characteristic')\n",
    "ax.set_xticklabels([])"
   ]
  },
  {
   "cell_type": "markdown",
   "metadata": {},
   "source": [
    "#### 5.\tBuild the confusion matrix for the tests data using the optimal threshold"
   ]
  },
  {
   "cell_type": "code",
   "execution_count": 65,
   "metadata": {
    "collapsed": false
   },
   "outputs": [
    {
     "name": "stdout",
     "output_type": "stream",
     "text": [
      "[[95 35]\n",
      " [14 56]]\n",
      "             precision    recall  f1-score   support\n",
      "\n",
      "          0       0.87      0.73      0.79       130\n",
      "          1       0.62      0.80      0.70        70\n",
      "\n",
      "avg / total       0.78      0.76      0.76       200\n",
      "\n"
     ]
    }
   ],
   "source": [
    "# Add prediction probability to dataframe\n",
    "probs = naiveBayesModel.predict_proba(X_test)\n",
    "\n",
    "# Find prediction to the dataframe applying threshold\n",
    "threshold = roc.ix[(roc.tf-0).abs().argsort()[:1]].thresholds.values\n",
    "pred = np.where(probs[:,1] > threshold , 1, 0)\n",
    "\n",
    "# Print confusion Matrix\n",
    "from sklearn.metrics import confusion_matrix, classification_report\n",
    "conf_matrix_NB = confusion_matrix(y_test, pred)\n",
    "print( conf_matrix_NB )\n",
    "class_report_NB = classification_report(y_test, pred)\n",
    "print( class_report_NB )"
   ]
  },
  {
   "cell_type": "markdown",
   "metadata": {},
   "source": [
    "#### 6.\tCalculate the Learned model accuracy"
   ]
  },
  {
   "cell_type": "code",
   "execution_count": 66,
   "metadata": {
    "collapsed": false
   },
   "outputs": [
    {
     "name": "stdout",
     "output_type": "stream",
     "text": [
      "0.75\n"
     ]
    }
   ],
   "source": [
    "predictedNB = naiveBayesModel.predict(X_test)\n",
    "print (metrics.accuracy_score(y_test, predictedNB))"
   ]
  },
  {
   "cell_type": "markdown",
   "metadata": {},
   "source": [
    "#### 7. Calculate the loss"
   ]
  },
  {
   "cell_type": "code",
   "execution_count": 67,
   "metadata": {
    "collapsed": false
   },
   "outputs": [
    {
     "name": "stdout",
     "output_type": "stream",
     "text": [
      "105\n"
     ]
    }
   ],
   "source": [
    "loss_NB = L_GB*conf_matrix_NB[1,0] + L_BG*conf_matrix_NB[0,1]\n",
    "print(loss_NB)"
   ]
  },
  {
   "cell_type": "markdown",
   "metadata": {},
   "source": [
    "### Decision Trees\n",
    "\n",
    "Reference - http://scikit-learn.org/stable/modules/tree.html"
   ]
  },
  {
   "cell_type": "markdown",
   "metadata": {},
   "source": [
    "#### 1. Calculate the model and display relevant statistics\n",
    "Once again -the data prepared and we can go ahead and train our model"
   ]
  },
  {
   "cell_type": "code",
   "execution_count": 68,
   "metadata": {
    "collapsed": false
   },
   "outputs": [],
   "source": [
    "from sklearn import tree\n",
    "#DecisionTreeRegressor\n",
    "decisionTreeModel = tree.DecisionTreeClassifier(max_depth=3, criterion='entropy')\n",
    "decisionTreeModel = decisionTreeModel.fit(X_train, y_train)"
   ]
  },
  {
   "cell_type": "markdown",
   "metadata": {},
   "source": [
    "#### 2.\tCalculate the AUC"
   ]
  },
  {
   "cell_type": "code",
   "execution_count": 69,
   "metadata": {
    "collapsed": false
   },
   "outputs": [
    {
     "name": "stdout",
     "output_type": "stream",
     "text": [
      "0.747912087912\n"
     ]
    }
   ],
   "source": [
    "probsDT = decisionTreeModel.predict_proba(X_test)\n",
    "print (metrics.roc_auc_score(y_test, probsDT[:,1]))"
   ]
  },
  {
   "cell_type": "markdown",
   "metadata": {},
   "source": [
    "#### 3.\tDraw the ROC"
   ]
  },
  {
   "cell_type": "code",
   "execution_count": 72,
   "metadata": {
    "collapsed": false
   },
   "outputs": [
    {
     "data": {
      "image/png": "[encoded data removed]",
      "text/plain": [
       "<matplotlib.figure.Figure at 0x118a25d10>"
      ]
     },
     "metadata": {},
     "output_type": "display_data"
    }
   ],
   "source": [
    "from sklearn.metrics import roc_curve, auc\n",
    "\n",
    "n_classes = 1\n",
    "\n",
    "# Learn to predict each class against the other\n",
    "y_score = probsDT[:,1]\n",
    "\n",
    "\n",
    "fprDT, tprDT, thrshDT = roc_curve(y_test, y_score)\n",
    "roc_aucDT = auc(fprDT, tprDT)\n",
    "\n",
    "\n",
    "plt.figure()\n",
    "lw = 2\n",
    "plt.plot(fprDT, tprDT, color='red', lw=lw, label='ROC curve (area = %0.2f)' % roc_aucDT)\n",
    "plt.plot([0, 1], [0, 1], color='navy', lw=lw, linestyle='--')\n",
    "plt.xlim([0.0, 1.0])\n",
    "plt.ylim([0.0, 1.05])\n",
    "plt.xlabel('False Positive Rate')\n",
    "plt.ylabel('True Positive Rate')\n",
    "plt.title('Receiver operating characteristic DT')\n",
    "plt.legend(loc=\"lower right\")\n",
    "plt.show()"
   ]
  },
  {
   "cell_type": "markdown",
   "metadata": {},
   "source": [
    "#### 4.\tCalculate the optimal threshold (using training data)"
   ]
  },
  {
   "cell_type": "code",
   "execution_count": 74,
   "metadata": {
    "collapsed": false
   },
   "outputs": [
    {
     "name": "stdout",
     "output_type": "stream",
     "text": [
      "      1-fpr       fpr        tf  thresholds  tpr\n",
      "2  0.630769  0.369231  0.169231     0.39404  0.8\n"
     ]
    },
    {
     "data": {
      "text/plain": [
       "[]"
      ]
     },
     "execution_count": 74,
     "metadata": {},
     "output_type": "execute_result"
    },
    {
     "data": {
      "image/png": "[encoded data removed]",
      "text/plain": [
       "<matplotlib.figure.Figure at 0x110485b50>"
      ]
     },
     "metadata": {},
     "output_type": "display_data"
    }
   ],
   "source": [
    "import pylab as pl\n",
    "\n",
    "i = np.arange(len(tprDT)) # index for df\n",
    "roc = pd.DataFrame({'fpr' : pd.Series(fprDT, index=i),\n",
    "                    'tpr' : pd.Series(tprDT, index = i), \n",
    "                    '1-fpr' : pd.Series(1-fprDT, index = i), \n",
    "                    'tf' : pd.Series(tprDT - (1-fprDT), index = i), \n",
    "                    'thresholds' : pd.Series(thrshDT, index = i)})\n",
    "print(roc.ix[(roc.tf-0).abs().argsort()[:1]])\n",
    "\n",
    "# Plot tpr vs 1-fpr\n",
    "fig, ax = pl.subplots()\n",
    "pl.plot(roc['tpr'])\n",
    "pl.plot(roc['1-fpr'], color = 'red')\n",
    "pl.xlabel('1-False Positive Rate')\n",
    "pl.ylabel('True Positive Rate')\n",
    "pl.title('Receiver operating characteristic')\n",
    "ax.set_xticklabels([])"
   ]
  },
  {
   "cell_type": "markdown",
   "metadata": {},
   "source": [
    "#### 5.\tBuild the confusion matrix for the tests data using the optimal threshold"
   ]
  },
  {
   "cell_type": "code",
   "execution_count": 48,
   "metadata": {
    "collapsed": false
   },
   "outputs": [
    {
     "name": "stdout",
     "output_type": "stream",
     "text": [
      "[[126   4]\n",
      " [ 56  14]]\n",
      "             precision    recall  f1-score   support\n",
      "\n",
      "          0       0.69      0.97      0.81       130\n",
      "          1       0.78      0.20      0.32        70\n",
      "\n",
      "avg / total       0.72      0.70      0.64       200\n",
      "\n"
     ]
    }
   ],
   "source": [
    "# Add prediction probability to dataframe\n",
    "probs = decisionTreeModel.predict_proba(X_test)\n",
    "\n",
    "# Find prediction to the dataframe applying threshold\n",
    "threshold = roc.ix[(roc.tf-0).abs().argsort()[:1]].thresholds.values\n",
    "pred = np.where(probs[:,1] > threshold , 1, 0)\n",
    "\n",
    "# Print confusion Matrix\n",
    "from sklearn.metrics import confusion_matrix, classification_report\n",
    "conf_matrix_DT = confusion_matrix(y_test, pred)\n",
    "print( conf_matrix_DT )\n",
    "class_report_DT = classification_report(y_test, pred)\n",
    "print( class_report_DT )"
   ]
  },
  {
   "cell_type": "markdown",
   "metadata": {},
   "source": [
    "#### 6.\tCalculate the Learned model accuracy"
   ]
  },
  {
   "cell_type": "code",
   "execution_count": 75,
   "metadata": {
    "collapsed": false
   },
   "outputs": [
    {
     "name": "stdout",
     "output_type": "stream",
     "text": [
      "0.7\n"
     ]
    }
   ],
   "source": [
    "predictedDT = decisionTreeModel.predict(X_test)\n",
    "print (metrics.accuracy_score(y_test, predictedDT))"
   ]
  },
  {
   "cell_type": "markdown",
   "metadata": {},
   "source": [
    "#### 7. Calculate the loss"
   ]
  },
  {
   "cell_type": "code",
   "execution_count": 106,
   "metadata": {
    "collapsed": false
   },
   "outputs": [
    {
     "name": "stdout",
     "output_type": "stream",
     "text": [
      "284\n"
     ]
    }
   ],
   "source": [
    "loss_DT = L_GB*conf_matrix_DT[1,0] + L_BG*conf_matrix_DT[0,1]\n",
    "print(loss_DT)"
   ]
  },
  {
   "cell_type": "markdown",
   "metadata": {},
   "source": [
    "### Performance summary"
   ]
  },
  {
   "cell_type": "code",
   "execution_count": 95,
   "metadata": {
    "collapsed": false
   },
   "outputs": [
    {
     "data": {
      "image/png": "[encoded data removed]",
      "text/plain": [
       "<matplotlib.figure.Figure at 0x10fb62750>"
      ]
     },
     "metadata": {},
     "output_type": "display_data"
    }
   ],
   "source": [
    "plt.figure(figsize=(8,6))\n",
    "lw = 2\n",
    "plt.plot(fprLR, tprLR, color='darkred', lw=lw, label='ROC curve LR (area = %0.2f ; loss = %0.2f)' % (roc_aucLR,loss_LR))\n",
    "plt.plot(fprNB, tprNB, color='darkgreen', lw=lw, label='ROC curve NB (area = %0.2f ; loss = %0.2f)' % (roc_aucNB,loss_NB))\n",
    "plt.plot(fprDT, tprDT, color='darkblue', lw=lw, label='ROC curve DT (area = %0.2f ; loss = %0.2f)' % (roc_aucDT,loss_DT))\n",
    "plt.plot([0, 1], [0, 1], color='navy', lw=lw, linestyle='--')\n",
    "plt.xlim([0.0, 1.0])\n",
    "plt.ylim([0.0, 1.05])\n",
    "plt.xlabel('False Positive Rate')\n",
    "plt.ylabel('True Positive Rate')\n",
    "plt.title('Receiver operating characteristic DT')\n",
    "plt.legend(loc=\"lower right\")\n",
    "plt.show()"
   ]
  }
 ],
 "metadata": {
  "anaconda-cloud": {},
  "kernelspec": {
   "display_name": "Python 2",
   "language": "python",
   "name": "python2"
  },
  "language_info": {
   "codemirror_mode": {
    "name": "ipython",
    "version": 2
   },
   "file_extension": ".py",
   "mimetype": "text/x-python",
   "name": "python",
   "nbconvert_exporter": "python",
   "pygments_lexer": "ipython2",
   "version": "2.7.12"
  }
 },
 "nbformat": 4,
 "nbformat_minor": 1
}
